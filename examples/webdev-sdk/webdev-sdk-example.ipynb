{
 "cells": [
  {
   "cell_type": "markdown",
   "id": "a257160e-bc90-4a7b-a328-967d449f211c",
   "metadata": {
    "slideshow": {
     "slide_type": "slide"
    }
   },
   "source": [
    "# Web Dev - Automatic Website Builder"
   ]
  },
  {
   "cell_type": "markdown",
   "id": "b3a407ff-1d7f-4a0a-bbfd-8df81cc15adf",
   "metadata": {
    "slideshow": {
     "slide_type": "skip"
    }
   },
   "source": [
    "### Project Settings\n",
    "Set the following values from your 'settings' on https://hub.oto.dev/"
   ]
  },
  {
   "cell_type": "code",
   "execution_count": 17,
   "id": "e6bdc39b-0d5d-4e5e-85c2-a331ab6aaa5a",
   "metadata": {
    "slideshow": {
     "slide_type": "subslide"
    }
   },
   "outputs": [],
   "source": [
    "project_id = 'webdev-sdk' # ⚠️ Do not forget to set your project_id\n",
    "api_key = '' # ⚠️ Do not forget to add your api_key"
   ]
  },
  {
   "cell_type": "markdown",
   "id": "7973241e-0c86-4e2a-a601-da3bba33138d",
   "metadata": {
    "slideshow": {
     "slide_type": "skip"
    }
   },
   "source": [
    "### Framework\n",
    "\n",
    "Nothing to change here, left as it is"
   ]
  },
  {
   "cell_type": "code",
   "execution_count": 61,
   "id": "af9882fe-4e51-4cce-9fa0-0d8113ed14b2",
   "metadata": {
    "slideshow": {
     "slide_type": "subslide"
    }
   },
   "outputs": [],
   "source": [
    "from tabulate import tabulate\n",
    "\n",
    "from web_oto_dev_sdk import WebOtoDevSdk\n",
    "from web_oto_dev_sdk.models.property import Property\n",
    "from web_oto_dev_sdk.models.meaning import Meaning\n",
    "from web_oto_dev_sdk.models.formula import Formula\n",
    "from web_oto_dev_sdk.models.value import Value\n",
    "\n",
    "sdk = WebOtoDevSdk(\n",
    "    project_id=project_id,\n",
    "    api_key=api_key, \n",
    "    base_url='https://api.web.oto.dev/openapi',\n",
    "    timeout=10*60*1000\n",
    ")\n",
    "\n",
    "def table(data):\n",
    "    return tabulate(data, tablefmt='html', showindex=False, stralign=\"right\")"
   ]
  },
  {
   "cell_type": "markdown",
   "id": "96df9e2e-2f97-4a12-8a09-feedec59ef8d",
   "metadata": {
    "slideshow": {
     "slide_type": "slide"
    }
   },
   "source": [
    "### Step 1. Properties"
   ]
  },
  {
   "cell_type": "markdown",
   "id": "4af185c2-6b04-4fea-9eae-7cf4a5eb677f",
   "metadata": {
    "jp-MarkdownHeadingCollapsed": true,
    "slideshow": {
     "slide_type": "subslide"
    }
   },
   "source": [
    "**Set project propetries:**"
   ]
  },
  {
   "cell_type": "code",
   "execution_count": 62,
   "id": "8643adc8-cf47-4660-8b38-f5207d73c8a0",
   "metadata": {
    "slideshow": {
     "slide_type": "fragment"
    }
   },
   "outputs": [],
   "source": [
    "sdk.properties.set('supported-language', 'en')\n",
    "sdk.properties.set('reference-website-url', 'https://web.oto.dev')\n",
    "\n",
    "sdk.properties.set('branding-color', '#40C3E4')\n",
    "sdk.properties.set('light-color-threshold', '0.7')\n",
    "sdk.properties.set('website-skin', 'softcorners')\n",
    "sdk.properties.set('background-decoration', 'circle')\n",
    "sdk.properties.set('branding-gradient', 'linear-gradient(90deg, #00DBDE 0%, #FC00FF 100%);')\n",
    "sdk.properties.add('branding-gradient', '')\n"
   ]
  },
  {
   "cell_type": "markdown",
   "id": "d327236b",
   "metadata": {
    "slideshow": {
     "slide_type": "subslide"
    }
   },
   "source": [
    "**Display All Properties**"
   ]
  },
  {
   "cell_type": "code",
   "execution_count": 63,
   "id": "48d1484a",
   "metadata": {
    "slideshow": {
     "slide_type": "fragment"
    }
   },
   "outputs": [
    {
     "data": {
      "text/html": [
       "<table>\n",
       "<tbody>\n",
       "<tr><td style=\"text-align: right;\">        project-title</td><td style=\"text-align: right;\">                                       WebDev SDK</td></tr>\n",
       "<tr><td style=\"text-align: right;\">         project-slug</td><td style=\"text-align: right;\">                                       webdev-sdk</td></tr>\n",
       "<tr><td style=\"text-align: right;\">  variables-use-query</td><td style=\"text-align: right;\">                                                 </td></tr>\n",
       "<tr><td style=\"text-align: right;\">   supported-language</td><td style=\"text-align: right;\">                                               en</td></tr>\n",
       "<tr><td style=\"text-align: right;\">reference-website-url</td><td style=\"text-align: right;\">                              https://web.oto.dev</td></tr>\n",
       "<tr><td style=\"text-align: right;\">       branding-color</td><td style=\"text-align: right;\">                                          #40C3E4</td></tr>\n",
       "<tr><td style=\"text-align: right;\">light-color-threshold</td><td style=\"text-align: right;\">                                              0.7</td></tr>\n",
       "<tr><td style=\"text-align: right;\">         website-skin</td><td style=\"text-align: right;\">                                      softcorners</td></tr>\n",
       "<tr><td style=\"text-align: right;\">background-decoration</td><td style=\"text-align: right;\">                                           circle</td></tr>\n",
       "<tr><td style=\"text-align: right;\">    branding-gradient</td><td style=\"text-align: right;\">linear-gradient(90deg, #00DBDE 0%, #FC00FF 100%);</td></tr>\n",
       "<tr><td style=\"text-align: right;\">    branding-gradient</td><td style=\"text-align: right;\">                                                 </td></tr>\n",
       "</tbody>\n",
       "</table>"
      ],
      "text/plain": [
       "'<table>\\n<tbody>\\n<tr><td style=\"text-align: right;\">        project-title</td><td style=\"text-align: right;\">                                       WebDev SDK</td></tr>\\n<tr><td style=\"text-align: right;\">         project-slug</td><td style=\"text-align: right;\">                                       webdev-sdk</td></tr>\\n<tr><td style=\"text-align: right;\">  variables-use-query</td><td style=\"text-align: right;\">                                                 </td></tr>\\n<tr><td style=\"text-align: right;\">   supported-language</td><td style=\"text-align: right;\">                                               en</td></tr>\\n<tr><td style=\"text-align: right;\">reference-website-url</td><td style=\"text-align: right;\">                              https://web.oto.dev</td></tr>\\n<tr><td style=\"text-align: right;\">       branding-color</td><td style=\"text-align: right;\">                                          #40C3E4</td></tr>\\n<tr><td style=\"text-align: right;\">light-color-threshold</td><td style=\"text-align: right;\">                                              0.7</td></tr>\\n<tr><td style=\"text-align: right;\">         website-skin</td><td style=\"text-align: right;\">                                      softcorners</td></tr>\\n<tr><td style=\"text-align: right;\">background-decoration</td><td style=\"text-align: right;\">                                           circle</td></tr>\\n<tr><td style=\"text-align: right;\">    branding-gradient</td><td style=\"text-align: right;\">linear-gradient(90deg, #00DBDE 0%, #FC00FF 100%);</td></tr>\\n<tr><td style=\"text-align: right;\">    branding-gradient</td><td style=\"text-align: right;\">                                                 </td></tr>\\n</tbody>\\n</table>'"
      ]
     },
     "execution_count": 63,
     "metadata": {},
     "output_type": "execute_result"
    }
   ],
   "source": [
    "table(sdk.properties.display())"
   ]
  },
  {
   "cell_type": "markdown",
   "id": "8c1342b8",
   "metadata": {
    "slideshow": {
     "slide_type": "slide"
    }
   },
   "source": [
    "### Step 2. Meanings"
   ]
  },
  {
   "cell_type": "markdown",
   "id": "32dc92ae",
   "metadata": {
    "slideshow": {
     "slide_type": "subslide"
    }
   },
   "source": [
    "**Setting project meanings**"
   ]
  },
  {
   "cell_type": "code",
   "execution_count": 64,
   "id": "e369493e-cc75-4701-b2ab-3317076bed23",
   "metadata": {
    "scrolled": true,
    "slideshow": {
     "slide_type": "fragment"
    }
   },
   "outputs": [],
   "source": [
    "sdk.meanings.set('mm-products-and-services', 'We provide an SDK for Python to simplify building websites by using AI')\n",
    "sdk.meanings.set('mm-free-first-step', 'You can quickly build a website by following the Quick Start guide located on https://github.com/www-oto-dev/webdev-sdk/')\n",
    "sdk.meanings.remove('mm-product-usage-advantages') # In case if they were set previously\n",
    "sdk.meanings.add('mm-product-usage-advantages', 'You can build websites in minutes')\n",
    "sdk.meanings.add('mm-product-usage-advantages', 'Use your social media, websites, and blogs as a source of information')\n",
    "sdk.meanings.add('mm-product-usage-advantages', 'Websites have build-it speed and SEO optimization (Comming Soon)')\n",
    "sdk.meanings.add('mm-product-usage-advantages', 'Calling one function will keep your website up-to-date')\n"
   ]
  },
  {
   "cell_type": "markdown",
   "id": "9ca1ad4e-222c-4b41-8acf-99318a62debe",
   "metadata": {
    "slideshow": {
     "slide_type": "subslide"
    }
   },
   "source": [
    "**Listing all project meanings**"
   ]
  },
  {
   "cell_type": "code",
   "execution_count": 65,
   "id": "ea33bab6",
   "metadata": {
    "slideshow": {
     "slide_type": "fragment"
    }
   },
   "outputs": [
    {
     "data": {
      "text/html": [
       "<table>\n",
       "<tbody>\n",
       "<tr><td style=\"text-align: right;\">   mm-products-and-services</td><td style=\"text-align: right;\">                            What products and services do you have?</td><td style=\"text-align: right;\">                                                  We provide an SDK for Python to simplify building websites by using AI</td></tr>\n",
       "<tr><td style=\"text-align: right;\">         mm-free-first-step</td><td style=\"text-align: right;\">          Does your business offer a free first step for customers?</td><td style=\"text-align: right;\">You can quickly build a website by following the Quick Start guide located on https://github.com/www-oto-dev/webdev-sdk/</td></tr>\n",
       "<tr><td style=\"text-align: right;\">mm-product-usage-advantages</td><td style=\"text-align: right;\">What are the positive aspects when using the product by the client?</td><td style=\"text-align: right;\">                                                                                       You can build websites in minutes</td></tr>\n",
       "<tr><td style=\"text-align: right;\">mm-product-usage-advantages</td><td style=\"text-align: right;\">What are the positive aspects when using the product by the client?</td><td style=\"text-align: right;\">                                                   Use your social media, websites, and blogs as a source of information</td></tr>\n",
       "<tr><td style=\"text-align: right;\">mm-product-usage-advantages</td><td style=\"text-align: right;\">What are the positive aspects when using the product by the client?</td><td style=\"text-align: right;\">                                                        Websites have build-it speed and SEO optimization (Comming Soon)</td></tr>\n",
       "<tr><td style=\"text-align: right;\">mm-product-usage-advantages</td><td style=\"text-align: right;\">What are the positive aspects when using the product by the client?</td><td style=\"text-align: right;\">                                                                  Calling one function will keep your website up-to-date</td></tr>\n",
       "</tbody>\n",
       "</table>"
      ],
      "text/plain": [
       "'<table>\\n<tbody>\\n<tr><td style=\"text-align: right;\">   mm-products-and-services</td><td style=\"text-align: right;\">                            What products and services do you have?</td><td style=\"text-align: right;\">                                                  We provide an SDK for Python to simplify building websites by using AI</td></tr>\\n<tr><td style=\"text-align: right;\">         mm-free-first-step</td><td style=\"text-align: right;\">          Does your business offer a free first step for customers?</td><td style=\"text-align: right;\">You can quickly build a website by following the Quick Start guide located on https://github.com/www-oto-dev/webdev-sdk/</td></tr>\\n<tr><td style=\"text-align: right;\">mm-product-usage-advantages</td><td style=\"text-align: right;\">What are the positive aspects when using the product by the client?</td><td style=\"text-align: right;\">                                                                                       You can build websites in minutes</td></tr>\\n<tr><td style=\"text-align: right;\">mm-product-usage-advantages</td><td style=\"text-align: right;\">What are the positive aspects when using the product by the client?</td><td style=\"text-align: right;\">                                                   Use your social media, websites, and blogs as a source of information</td></tr>\\n<tr><td style=\"text-align: right;\">mm-product-usage-advantages</td><td style=\"text-align: right;\">What are the positive aspects when using the product by the client?</td><td style=\"text-align: right;\">                                                        Websites have build-it speed and SEO optimization (Comming Soon)</td></tr>\\n<tr><td style=\"text-align: right;\">mm-product-usage-advantages</td><td style=\"text-align: right;\">What are the positive aspects when using the product by the client?</td><td style=\"text-align: right;\">                                                                  Calling one function will keep your website up-to-date</td></tr>\\n</tbody>\\n</table>'"
      ]
     },
     "execution_count": 65,
     "metadata": {},
     "output_type": "execute_result"
    }
   ],
   "source": [
    "table(sdk.meanings.display())"
   ]
  },
  {
   "cell_type": "markdown",
   "id": "7569a693-d4e2-47bd-919a-ef9b37fff64a",
   "metadata": {
    "slideshow": {
     "slide_type": "slide"
    }
   },
   "source": [
    "### Step 3. Formulas"
   ]
  },
  {
   "cell_type": "code",
   "execution_count": 66,
   "id": "ba61b565",
   "metadata": {},
   "outputs": [],
   "source": [
    "#You can clear all formulas to defaults\n",
    "sdk.formulas.new(init='default')\n",
    "\n",
    "sdk.formulas.set('about.text', 'Imagine how useful this product can be for end-users and write an article with examples about that')\n",
    "sdk.formulas.set('about.title', 'Create a Title the following text: {about.text}')\n",
    "sdk.formulas.set('action.button.title', 'Same in a couple of words: {main.button.title}')"
   ]
  },
  {
   "cell_type": "markdown",
   "id": "6dce9e69",
   "metadata": {
    "slideshow": {
     "slide_type": "subslide"
    }
   },
   "source": [
    "**Display formulas**"
   ]
  },
  {
   "cell_type": "code",
   "execution_count": 67,
   "id": "884acb1b-206e-4dce-8c97-200ea24bcf01",
   "metadata": {
    "scrolled": true,
    "slideshow": {
     "slide_type": "fragment"
    }
   },
   "outputs": [
    {
     "data": {
      "text/html": [
       "<table>\n",
       "<tbody>\n",
       "<tr><td style=\"text-align: right;\">                 title</td><td style=\"text-align: right;\">                            [write-creative-selling-headline][with-numbers][no-longer-6-words][lang]</td></tr>\n",
       "<tr><td style=\"text-align: right;\">            main.title</td><td style=\"text-align: right;\">[write-creative-selling-headline][with-numbers][no-longer-6-words][use-analogy-allegory-humor][lang]</td></tr>\n",
       "<tr><td style=\"text-align: right;\">         main.subtitle</td><td style=\"text-align: right;\">                                [write-short-summary-product][no-longer-10-words][lang]:{main.title}</td></tr>\n",
       "<tr><td style=\"text-align: right;\">     main.button.title</td><td style=\"text-align: right;\">                 [make-the-title][in-2-4-words] [for-action-button-product] [no-list][no-excl][lang]</td></tr>\n",
       "<tr><td style=\"text-align: right;\">            main.image</td><td style=\"text-align: right;\">                                 {main.title} . [white-bg] [flat-vector-illustraton] [cartoon-style]</td></tr>\n",
       "<tr><td style=\"text-align: right;\">       advantages.text</td><td style=\"text-align: right;\">                                                      [write-advantages-product][with-numbers][lang]</td></tr>\n",
       "<tr><td style=\"text-align: right;\">   advantages.subtitle</td><td style=\"text-align: right;\">                                      [write-short-title-paragraph][no-list][lang]:{advantages.text}</td></tr>\n",
       "<tr><td style=\"text-align: right;\">      advantages.title</td><td style=\"text-align: right;\">                                [make-the-title][in-2-4-words][no-list][lang]: {advantages.subtitle}</td></tr>\n",
       "<tr><td style=\"text-align: right;\">advantages.items.image</td><td style=\"text-align: right;\">                     {advantages.items.title} . [white-bg] [flat-vector-illustraton] [cartoon-style]</td></tr>\n",
       "<tr><td style=\"text-align: right;\"> advantages.items.text</td><td style=\"text-align: right;\">                                             [write-several][advantages-product][with-numbers][lang]</td></tr>\n",
       "<tr><td style=\"text-align: right;\">advantages.items.title</td><td style=\"text-align: right;\">              [write-short-title-paragraph][in-2-4-words][no-list][no-excl]: {advantages.items.text}</td></tr>\n",
       "<tr><td style=\"text-align: right;\">            fits.title</td><td style=\"text-align: right;\">                                    [make-a-title-block][who-is-product-suitable-for][no-list][lang]</td></tr>\n",
       "<tr><td style=\"text-align: right;\">       fits.items.text</td><td style=\"text-align: right;\">                                         [describe-only-2-main-client-portrait-product] [list][lang]</td></tr>\n",
       "<tr><td style=\"text-align: right;\">      fits.items.title</td><td style=\"text-align: right;\">                    [write-short-title-paragraph][in-2-4-words][no-list][no-excl]: {fits.items.text}</td></tr>\n",
       "<tr><td style=\"text-align: right;\">      rates.items.text</td><td style=\"text-align: right;\">                                                               [write-3-rates-product]  [list][lang]</td></tr>\n",
       "<tr><td style=\"text-align: right;\">     rates.items.title</td><td style=\"text-align: right;\">                   [write-short-title-paragraph][in-2-4-words][no-list][no-excl]: {rates.items.text}</td></tr>\n",
       "<tr><td style=\"text-align: right;\">           rates.title</td><td style=\"text-align: right;\">                                                          [make-a-title-block][rates][no-list][lang]</td></tr>\n",
       "<tr><td style=\"text-align: right;\">            about.text</td><td style=\"text-align: right;\">  Imagine how useful this product can be for end-users and write an article with examples about that</td></tr>\n",
       "<tr><td style=\"text-align: right;\">           about.title</td><td style=\"text-align: right;\">                                                     Create a Title the following text: {about.text}</td></tr>\n",
       "<tr><td style=\"text-align: right;\">   action.button.title</td><td style=\"text-align: right;\">                                                        Same in couple of words: {main.button.title}</td></tr>\n",
       "</tbody>\n",
       "</table>"
      ],
      "text/plain": [
       "'<table>\\n<tbody>\\n<tr><td style=\"text-align: right;\">                 title</td><td style=\"text-align: right;\">                            [write-creative-selling-headline][with-numbers][no-longer-6-words][lang]</td></tr>\\n<tr><td style=\"text-align: right;\">            main.title</td><td style=\"text-align: right;\">[write-creative-selling-headline][with-numbers][no-longer-6-words][use-analogy-allegory-humor][lang]</td></tr>\\n<tr><td style=\"text-align: right;\">         main.subtitle</td><td style=\"text-align: right;\">                                [write-short-summary-product][no-longer-10-words][lang]:{main.title}</td></tr>\\n<tr><td style=\"text-align: right;\">     main.button.title</td><td style=\"text-align: right;\">                 [make-the-title][in-2-4-words] [for-action-button-product] [no-list][no-excl][lang]</td></tr>\\n<tr><td style=\"text-align: right;\">            main.image</td><td style=\"text-align: right;\">                                 {main.title} . [white-bg] [flat-vector-illustraton] [cartoon-style]</td></tr>\\n<tr><td style=\"text-align: right;\">       advantages.text</td><td style=\"text-align: right;\">                                                      [write-advantages-product][with-numbers][lang]</td></tr>\\n<tr><td style=\"text-align: right;\">   advantages.subtitle</td><td style=\"text-align: right;\">                                      [write-short-title-paragraph][no-list][lang]:{advantages.text}</td></tr>\\n<tr><td style=\"text-align: right;\">      advantages.title</td><td style=\"text-align: right;\">                                [make-the-title][in-2-4-words][no-list][lang]: {advantages.subtitle}</td></tr>\\n<tr><td style=\"text-align: right;\">advantages.items.image</td><td style=\"text-align: right;\">                     {advantages.items.title} . [white-bg] [flat-vector-illustraton] [cartoon-style]</td></tr>\\n<tr><td style=\"text-align: right;\"> advantages.items.text</td><td style=\"text-align: right;\">                                             [write-several][advantages-product][with-numbers][lang]</td></tr>\\n<tr><td style=\"text-align: right;\">advantages.items.title</td><td style=\"text-align: right;\">              [write-short-title-paragraph][in-2-4-words][no-list][no-excl]: {advantages.items.text}</td></tr>\\n<tr><td style=\"text-align: right;\">            fits.title</td><td style=\"text-align: right;\">                                    [make-a-title-block][who-is-product-suitable-for][no-list][lang]</td></tr>\\n<tr><td style=\"text-align: right;\">       fits.items.text</td><td style=\"text-align: right;\">                                         [describe-only-2-main-client-portrait-product] [list][lang]</td></tr>\\n<tr><td style=\"text-align: right;\">      fits.items.title</td><td style=\"text-align: right;\">                    [write-short-title-paragraph][in-2-4-words][no-list][no-excl]: {fits.items.text}</td></tr>\\n<tr><td style=\"text-align: right;\">      rates.items.text</td><td style=\"text-align: right;\">                                                               [write-3-rates-product]  [list][lang]</td></tr>\\n<tr><td style=\"text-align: right;\">     rates.items.title</td><td style=\"text-align: right;\">                   [write-short-title-paragraph][in-2-4-words][no-list][no-excl]: {rates.items.text}</td></tr>\\n<tr><td style=\"text-align: right;\">           rates.title</td><td style=\"text-align: right;\">                                                          [make-a-title-block][rates][no-list][lang]</td></tr>\\n<tr><td style=\"text-align: right;\">            about.text</td><td style=\"text-align: right;\">  Imagine how useful this product can be for end-users and write an article with examples about that</td></tr>\\n<tr><td style=\"text-align: right;\">           about.title</td><td style=\"text-align: right;\">                                                     Create a Title the following text: {about.text}</td></tr>\\n<tr><td style=\"text-align: right;\">   action.button.title</td><td style=\"text-align: right;\">                                                        Same in couple of words: {main.button.title}</td></tr>\\n</tbody>\\n</table>'"
      ]
     },
     "execution_count": 67,
     "metadata": {},
     "output_type": "execute_result"
    }
   ],
   "source": [
    "table(sdk.formulas.display())"
   ]
  },
  {
   "cell_type": "markdown",
   "id": "0f2c4a46",
   "metadata": {
    "slideshow": {
     "slide_type": "slide"
    }
   },
   "source": [
    "### Step 4. Values"
   ]
  },
  {
   "cell_type": "markdown",
   "id": "0ec12516",
   "metadata": {
    "slideshow": {
     "slide_type": "subslide"
    }
   },
   "source": [
    "**Generating new values**"
   ]
  },
  {
   "cell_type": "code",
   "execution_count": 68,
   "id": "958bb9a4-1203-40b7-808b-130cae13fc4b",
   "metadata": {
    "slideshow": {
     "slide_type": "fragment"
    }
   },
   "outputs": [],
   "source": [
    "# Clear all values = New revision\n",
    "#sdk.values.new(init='default')\n",
    "\n",
    "# Remove values you want to regenerate\n",
    "sdk.values.remove('action.button.title')\n",
    "\n",
    "\n",
    "# Generate values\n",
    "sdk.project.generate()"
   ]
  },
  {
   "cell_type": "markdown",
   "id": "5b9d6a87-affc-496d-bd66-b54de40dcefe",
   "metadata": {
    "slideshow": {
     "slide_type": "subslide"
    }
   },
   "source": [
    "**Setting some defined values**"
   ]
  },
  {
   "cell_type": "code",
   "execution_count": 69,
   "id": "82e7978d-6150-46cf-a0d9-d286c26f4a0b",
   "metadata": {
    "slideshow": {
     "slide_type": "fragment"
    }
   },
   "outputs": [],
   "source": [
    "# We would like to change something\n",
    "sdk.values.set('main.title', 'WebDev SDK')\n"
   ]
  },
  {
   "cell_type": "markdown",
   "id": "3e1e1e5a",
   "metadata": {
    "slideshow": {
     "slide_type": "subslide"
    }
   },
   "source": [
    "**Displaying Values**"
   ]
  },
  {
   "cell_type": "code",
   "execution_count": 70,
   "id": "fc3e962c-291b-4913-90e5-96e0c072b1c0",
   "metadata": {
    "slideshow": {
     "slide_type": "fragment"
    }
   },
   "outputs": [
    {
     "data": {
      "text/html": [
       "<table>\n",
       "<tbody>\n",
       "<tr><td style=\"text-align: right;\">            page.title</td><td style=\"text-align: right;\">                                                                                                                                                             WebDev SDK</td></tr>\n",
       "<tr><td style=\"text-align: right;\">                 title</td><td style=\"text-align: right;\">                                                                                                                                  Build AI-powered websites in minutes!</td></tr>\n",
       "<tr><td style=\"text-align: right;\">         main.subtitle</td><td style=\"text-align: right;\">                                                                                                      Build websites at lightning speed with our AI-powered Python SDK!</td></tr>\n",
       "<tr><td style=\"text-align: right;\">            main.image</td><td style=\"text-align: right;\">                                                                                                                                   1545442f-8609-4bfb-bb5e-f3276260fecf</td></tr>\n",
       "<tr><td style=\"text-align: right;\">       advantages.text</td><td style=\"text-align: right;\">                                                                                                                                                                        The advantages of our product include:\n",
       "- Quickly building websites in minutes\n",
       "- Using social media, websites, and blogs as sources of information\n",
       "- Websites having fast build-it speed and SEO optimization\n",
       "- Keeping your website up-to-date with just one function</td></tr>\n",
       "<tr><td style=\"text-align: right;\">   advantages.subtitle</td><td style=\"text-align: right;\">                                                                                                                        Advantages of Our Product for Building Websites</td></tr>\n",
       "<tr><td style=\"text-align: right;\">      advantages.title</td><td style=\"text-align: right;\">                                                                                                                                           Benefits of Website Building</td></tr>\n",
       "<tr><td style=\"text-align: right;\">advantages.items.image</td><td style=\"text-align: right;\">                                                                                                                                   a6cbc9e3-0614-4304-9eaa-cce5250cea59</td></tr>\n",
       "<tr><td style=\"text-align: right;\"> advantages.items.text</td><td style=\"text-align: right;\">                                                                                                           Build websites in minutes using the provided SDK for Python.</td></tr>\n",
       "<tr><td style=\"text-align: right;\"> advantages.items.text</td><td style=\"text-align: right;\">                                                                         Easily create websites using your social media, websites, and blogs as sources of information.</td></tr>\n",
       "<tr><td style=\"text-align: right;\"> advantages.items.text</td><td style=\"text-align: right;\">                                                                                          Benefit from the build-it speed and SEO optimization features of the product.</td></tr>\n",
       "<tr><td style=\"text-align: right;\"> advantages.items.text</td><td style=\"text-align: right;\">                                                                                                           Keep your website up-to-date by simply calling one function.</td></tr>\n",
       "<tr><td style=\"text-align: right;\">advantages.items.title</td><td style=\"text-align: right;\">                                                                                                                                    Efficient Website Building Solution</td></tr>\n",
       "<tr><td style=\"text-align: right;\">advantages.items.title</td><td style=\"text-align: right;\">                                                                                                                                            Effortlessly Build Websites</td></tr>\n",
       "<tr><td style=\"text-align: right;\">advantages.items.title</td><td style=\"text-align: right;\">                                                                                                                                             Efficient Website Building</td></tr>\n",
       "<tr><td style=\"text-align: right;\">advantages.items.title</td><td style=\"text-align: right;\">                                                                                                                                       Effortlessly Update Your Website</td></tr>\n",
       "<tr><td style=\"text-align: right;\">            fits.title</td><td style=\"text-align: right;\">                                                                                                                                            Ideal Users for Our Product</td></tr>\n",
       "<tr><td style=\"text-align: right;\">       fits.items.text</td><td style=\"text-align: right;\">                                                Developers and programmers who want to quickly build websites using AI technology without having to start from scratch.</td></tr>\n",
       "<tr><td style=\"text-align: right;\">       fits.items.text</td><td style=\"text-align: right;\">Small business owners or individuals looking to create a professional website with minimal time and effort by leveraging the SDK&#x27;s speed and SEO optimization features.</td></tr>\n",
       "<tr><td style=\"text-align: right;\">      fits.items.title</td><td style=\"text-align: right;\">                                                                                                                                         AI-Powered Website Development</td></tr>\n",
       "<tr><td style=\"text-align: right;\">      fits.items.title</td><td style=\"text-align: right;\">                                                                                                                                             Efficient Website Creation</td></tr>\n",
       "<tr><td style=\"text-align: right;\">      rates.items.text</td><td style=\"text-align: right;\">                                                                                                                                        Quick and easy website building</td></tr>\n",
       "<tr><td style=\"text-align: right;\">      rates.items.text</td><td style=\"text-align: right;\">                                                                                                             Seamless integration with social media and other platforms</td></tr>\n",
       "<tr><td style=\"text-align: right;\">      rates.items.text</td><td style=\"text-align: right;\">                                                                                                                              Automated updates for website maintenance</td></tr>\n",
       "<tr><td style=\"text-align: right;\">     rates.items.title</td><td style=\"text-align: right;\">                                                                                                                                            Effortless Website Creation</td></tr>\n",
       "<tr><td style=\"text-align: right;\">     rates.items.title</td><td style=\"text-align: right;\">                                                                                                                                        Effortless Platform Integration</td></tr>\n",
       "<tr><td style=\"text-align: right;\">     rates.items.title</td><td style=\"text-align: right;\">                                                                                                                                         Website Maintenance Automation</td></tr>\n",
       "<tr><td style=\"text-align: right;\">           rates.title</td><td style=\"text-align: right;\">                                                                                                              Block Rate Benefits: Enhancing Website Building with Ease</td></tr>\n",
       "<tr><td style=\"text-align: right;\">           about.title</td><td style=\"text-align: right;\">                                                                                                    Revolutionizing Website Building: Introducing the WebDev Python SDK</td></tr>\n",
       "<tr><td style=\"text-align: right;\">            about.text</td><td style=\"text-align: right;\">                                                                                                                                                                        In today&#x27;s digital age, having a captivating and user-friendly website is crucial for businesses and individuals alike. However, the process of building and maintaining a website can often be daunting and time-consuming. Enter the WebDev Python SDK, a game-changing tool that simplifies website development through the power of AI.\n",
       "\n",
       "Gone are the days of spending hours writing complex code and troubleshooting website issues. With the WebDev Python SDK, users can now build websites in a matter of minutes, thanks to its user-friendly interface and streamlined processes. By following the Quick Start guide provided, even those with minimal coding experience can create stunning websites effortlessly.\n",
       "\n",
       "One of the key benefits of using the WebDev Python SDK is its ability to integrate seamlessly with social media platforms, websites, and blogs. Users can leverage their existing online presence as a source of information, making it easier to keep their audience engaged and informed. Whether it&#x27;s sharing updates, promoting products, or providing valuable content, the SDK enables users to enhance their online presence with ease.\n",
       "\n",
       "Furthermore, the WebDev Python SDK offers built-in speed and SEO optimization features, ensuring that websites not only look great but also perform exceptionally well in search engine rankings. This means that users can attract more visitors to their site and maximize their online visibility without having to worry about technical SEO intricacies.\n",
       "\n",
       "Perhaps one of the most impressive aspects of the WebDev Python SDK is its ability to keep websites up-to-date effortlessly. By simply calling a single function, users can ensure that their website remains current and relevant, saving them time and hassle in the long run. This automated feature is a game-changer for those who want to focus on creating quality content without getting bogged down by website maintenance tasks.\n",
       "\n",
       "In conclusion, the WebDev Python SDK is a revolutionary tool that is set to transform the way websites are built and maintained. With its user-friendly interface, seamless integration capabilities, speed optimization, and automated updates, this SDK empowers users to create professional websites with ease. Whether you&#x27;re a small business owner, a blogger, or a marketing professional, the WebDev Python SDK is a must-have tool for anyone looking to make their mark in the digital landscape.</td></tr>\n",
       "<tr><td style=\"text-align: right;\">     main.button.title</td><td style=\"text-align: right;\">                                                                                                                                                        Get Started Now</td></tr>\n",
       "<tr><td style=\"text-align: right;\">   action.button.title</td><td style=\"text-align: right;\">                                                                                                                                                 Get building with SDK!</td></tr>\n",
       "<tr><td style=\"text-align: right;\">            main.title</td><td style=\"text-align: right;\">                                                                                                                                                             WebDev SDK</td></tr>\n",
       "</tbody>\n",
       "</table>"
      ],
      "text/plain": [
       "'<table>\\n<tbody>\\n<tr><td style=\"text-align: right;\">            page.title</td><td style=\"text-align: right;\">                                                                                                                                                             WebDev SDK</td></tr>\\n<tr><td style=\"text-align: right;\">                 title</td><td style=\"text-align: right;\">                                                                                                                                  Build AI-powered websites in minutes!</td></tr>\\n<tr><td style=\"text-align: right;\">         main.subtitle</td><td style=\"text-align: right;\">                                                                                                      Build websites at lightning speed with our AI-powered Python SDK!</td></tr>\\n<tr><td style=\"text-align: right;\">            main.image</td><td style=\"text-align: right;\">                                                                                                                                   1545442f-8609-4bfb-bb5e-f3276260fecf</td></tr>\\n<tr><td style=\"text-align: right;\">       advantages.text</td><td style=\"text-align: right;\">                                                                                                                                                                        The advantages of our product include:\\n- Quickly building websites in minutes\\n- Using social media, websites, and blogs as sources of information\\n- Websites having fast build-it speed and SEO optimization\\n- Keeping your website up-to-date with just one function</td></tr>\\n<tr><td style=\"text-align: right;\">   advantages.subtitle</td><td style=\"text-align: right;\">                                                                                                                        Advantages of Our Product for Building Websites</td></tr>\\n<tr><td style=\"text-align: right;\">      advantages.title</td><td style=\"text-align: right;\">                                                                                                                                           Benefits of Website Building</td></tr>\\n<tr><td style=\"text-align: right;\">advantages.items.image</td><td style=\"text-align: right;\">                                                                                                                                   a6cbc9e3-0614-4304-9eaa-cce5250cea59</td></tr>\\n<tr><td style=\"text-align: right;\"> advantages.items.text</td><td style=\"text-align: right;\">                                                                                                           Build websites in minutes using the provided SDK for Python.</td></tr>\\n<tr><td style=\"text-align: right;\"> advantages.items.text</td><td style=\"text-align: right;\">                                                                         Easily create websites using your social media, websites, and blogs as sources of information.</td></tr>\\n<tr><td style=\"text-align: right;\"> advantages.items.text</td><td style=\"text-align: right;\">                                                                                          Benefit from the build-it speed and SEO optimization features of the product.</td></tr>\\n<tr><td style=\"text-align: right;\"> advantages.items.text</td><td style=\"text-align: right;\">                                                                                                           Keep your website up-to-date by simply calling one function.</td></tr>\\n<tr><td style=\"text-align: right;\">advantages.items.title</td><td style=\"text-align: right;\">                                                                                                                                    Efficient Website Building Solution</td></tr>\\n<tr><td style=\"text-align: right;\">advantages.items.title</td><td style=\"text-align: right;\">                                                                                                                                            Effortlessly Build Websites</td></tr>\\n<tr><td style=\"text-align: right;\">advantages.items.title</td><td style=\"text-align: right;\">                                                                                                                                             Efficient Website Building</td></tr>\\n<tr><td style=\"text-align: right;\">advantages.items.title</td><td style=\"text-align: right;\">                                                                                                                                       Effortlessly Update Your Website</td></tr>\\n<tr><td style=\"text-align: right;\">            fits.title</td><td style=\"text-align: right;\">                                                                                                                                            Ideal Users for Our Product</td></tr>\\n<tr><td style=\"text-align: right;\">       fits.items.text</td><td style=\"text-align: right;\">                                                Developers and programmers who want to quickly build websites using AI technology without having to start from scratch.</td></tr>\\n<tr><td style=\"text-align: right;\">       fits.items.text</td><td style=\"text-align: right;\">Small business owners or individuals looking to create a professional website with minimal time and effort by leveraging the SDK&#x27;s speed and SEO optimization features.</td></tr>\\n<tr><td style=\"text-align: right;\">      fits.items.title</td><td style=\"text-align: right;\">                                                                                                                                         AI-Powered Website Development</td></tr>\\n<tr><td style=\"text-align: right;\">      fits.items.title</td><td style=\"text-align: right;\">                                                                                                                                             Efficient Website Creation</td></tr>\\n<tr><td style=\"text-align: right;\">      rates.items.text</td><td style=\"text-align: right;\">                                                                                                                                        Quick and easy website building</td></tr>\\n<tr><td style=\"text-align: right;\">      rates.items.text</td><td style=\"text-align: right;\">                                                                                                             Seamless integration with social media and other platforms</td></tr>\\n<tr><td style=\"text-align: right;\">      rates.items.text</td><td style=\"text-align: right;\">                                                                                                                              Automated updates for website maintenance</td></tr>\\n<tr><td style=\"text-align: right;\">     rates.items.title</td><td style=\"text-align: right;\">                                                                                                                                            Effortless Website Creation</td></tr>\\n<tr><td style=\"text-align: right;\">     rates.items.title</td><td style=\"text-align: right;\">                                                                                                                                        Effortless Platform Integration</td></tr>\\n<tr><td style=\"text-align: right;\">     rates.items.title</td><td style=\"text-align: right;\">                                                                                                                                         Website Maintenance Automation</td></tr>\\n<tr><td style=\"text-align: right;\">           rates.title</td><td style=\"text-align: right;\">                                                                                                              Block Rate Benefits: Enhancing Website Building with Ease</td></tr>\\n<tr><td style=\"text-align: right;\">           about.title</td><td style=\"text-align: right;\">                                                                                                    Revolutionizing Website Building: Introducing the WebDev Python SDK</td></tr>\\n<tr><td style=\"text-align: right;\">            about.text</td><td style=\"text-align: right;\">                                                                                                                                                                        In today&#x27;s digital age, having a captivating and user-friendly website is crucial for businesses and individuals alike. However, the process of building and maintaining a website can often be daunting and time-consuming. Enter the WebDev Python SDK, a game-changing tool that simplifies website development through the power of AI.\\n\\nGone are the days of spending hours writing complex code and troubleshooting website issues. With the WebDev Python SDK, users can now build websites in a matter of minutes, thanks to its user-friendly interface and streamlined processes. By following the Quick Start guide provided, even those with minimal coding experience can create stunning websites effortlessly.\\n\\nOne of the key benefits of using the WebDev Python SDK is its ability to integrate seamlessly with social media platforms, websites, and blogs. Users can leverage their existing online presence as a source of information, making it easier to keep their audience engaged and informed. Whether it&#x27;s sharing updates, promoting products, or providing valuable content, the SDK enables users to enhance their online presence with ease.\\n\\nFurthermore, the WebDev Python SDK offers built-in speed and SEO optimization features, ensuring that websites not only look great but also perform exceptionally well in search engine rankings. This means that users can attract more visitors to their site and maximize their online visibility without having to worry about technical SEO intricacies.\\n\\nPerhaps one of the most impressive aspects of the WebDev Python SDK is its ability to keep websites up-to-date effortlessly. By simply calling a single function, users can ensure that their website remains current and relevant, saving them time and hassle in the long run. This automated feature is a game-changer for those who want to focus on creating quality content without getting bogged down by website maintenance tasks.\\n\\nIn conclusion, the WebDev Python SDK is a revolutionary tool that is set to transform the way websites are built and maintained. With its user-friendly interface, seamless integration capabilities, speed optimization, and automated updates, this SDK empowers users to create professional websites with ease. Whether you&#x27;re a small business owner, a blogger, or a marketing professional, the WebDev Python SDK is a must-have tool for anyone looking to make their mark in the digital landscape.</td></tr>\\n<tr><td style=\"text-align: right;\">     main.button.title</td><td style=\"text-align: right;\">                                                                                                                                                        Get Started Now</td></tr>\\n<tr><td style=\"text-align: right;\">   action.button.title</td><td style=\"text-align: right;\">                                                                                                                                                 Get building with SDK!</td></tr>\\n<tr><td style=\"text-align: right;\">            main.title</td><td style=\"text-align: right;\">                                                                                                                                                             WebDev SDK</td></tr>\\n</tbody>\\n</table>'"
      ]
     },
     "execution_count": 70,
     "metadata": {},
     "output_type": "execute_result"
    }
   ],
   "source": [
    "table(sdk.values.display())"
   ]
  },
  {
   "cell_type": "markdown",
   "id": "6b8e7f32-63c4-417a-a479-9b3186bd399f",
   "metadata": {
    "slideshow": {
     "slide_type": "slide"
    }
   },
   "source": [
    "### Finish: Building"
   ]
  },
  {
   "cell_type": "markdown",
   "id": "a080ecf4",
   "metadata": {
    "slideshow": {
     "slide_type": "subslide"
    }
   },
   "source": [
    "**Build & Display the address**"
   ]
  },
  {
   "cell_type": "code",
   "execution_count": 72,
   "id": "0121792c-fa85-40f9-8a31-40f8d2128343",
   "metadata": {
    "slideshow": {
     "slide_type": "fragment"
    }
   },
   "outputs": [],
   "source": [
    "sdk.project.build()"
   ]
  },
  {
   "cell_type": "code",
   "execution_count": null,
   "id": "5cf42e24",
   "metadata": {},
   "outputs": [],
   "source": [
    "sdk.project.view()"
   ]
  }
 ],
 "metadata": {
  "celltoolbar": "Slideshow",
  "kernelspec": {
   "display_name": "Python 3 (ipykernel)",
   "language": "python",
   "name": "python3"
  },
  "language_info": {
   "codemirror_mode": {
    "name": "ipython",
    "version": 3
   },
   "file_extension": ".py",
   "mimetype": "text/x-python",
   "name": "python",
   "nbconvert_exporter": "python",
   "pygments_lexer": "ipython3",
   "version": "3.13.2"
  }
 },
 "nbformat": 4,
 "nbformat_minor": 5
}
